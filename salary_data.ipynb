{
 "cells": [
  {
   "cell_type": "markdown",
   "id": "b7ee6a1b-d796-4d65-a530-a547063cfc88",
   "metadata": {},
   "source": [
    " ## JUI ROY "
   ]
  },
  {
   "cell_type": "code",
   "execution_count": 1,
   "id": "95cde67e-af8a-432d-b12e-6a08057c7cbd",
   "metadata": {},
   "outputs": [],
   "source": [
    "import numpy as np\n",
    "import pandas as pd\n",
    "import matplotlib.pyplot as plt\n",
    "import sklearn.metrics as sm"
   ]
  },
  {
   "cell_type": "code",
   "execution_count": 2,
   "id": "d9ad38bb-e3bd-4619-8129-f50ab2b62dbb",
   "metadata": {},
   "outputs": [
    {
     "data": {
      "text/html": [
       "<div>\n",
       "<style scoped>\n",
       "    .dataframe tbody tr th:only-of-type {\n",
       "        vertical-align: middle;\n",
       "    }\n",
       "\n",
       "    .dataframe tbody tr th {\n",
       "        vertical-align: top;\n",
       "    }\n",
       "\n",
       "    .dataframe thead th {\n",
       "        text-align: right;\n",
       "    }\n",
       "</style>\n",
       "<table border=\"1\" class=\"dataframe\">\n",
       "  <thead>\n",
       "    <tr style=\"text-align: right;\">\n",
       "      <th></th>\n",
       "      <th>YearsExperience</th>\n",
       "      <th>Salary</th>\n",
       "    </tr>\n",
       "  </thead>\n",
       "  <tbody>\n",
       "    <tr>\n",
       "      <th>0</th>\n",
       "      <td>1.1</td>\n",
       "      <td>39343.0</td>\n",
       "    </tr>\n",
       "    <tr>\n",
       "      <th>1</th>\n",
       "      <td>1.3</td>\n",
       "      <td>46205.0</td>\n",
       "    </tr>\n",
       "    <tr>\n",
       "      <th>2</th>\n",
       "      <td>1.5</td>\n",
       "      <td>37731.0</td>\n",
       "    </tr>\n",
       "    <tr>\n",
       "      <th>3</th>\n",
       "      <td>2.0</td>\n",
       "      <td>43525.0</td>\n",
       "    </tr>\n",
       "    <tr>\n",
       "      <th>4</th>\n",
       "      <td>2.2</td>\n",
       "      <td>39891.0</td>\n",
       "    </tr>\n",
       "  </tbody>\n",
       "</table>\n",
       "</div>"
      ],
      "text/plain": [
       "   YearsExperience   Salary\n",
       "0              1.1  39343.0\n",
       "1              1.3  46205.0\n",
       "2              1.5  37731.0\n",
       "3              2.0  43525.0\n",
       "4              2.2  39891.0"
      ]
     },
     "execution_count": 2,
     "metadata": {},
     "output_type": "execute_result"
    }
   ],
   "source": [
    "data=pd.read_csv(\"Salary_data.csv\")\n",
    "data.head()"
   ]
  },
  {
   "cell_type": "markdown",
   "id": "fa339bb0-843a-4e99-a4fe-8848030b12dc",
   "metadata": {},
   "source": [
    "   ## X= YEARS OF EXPERIENCE\n",
    "  ## Y= SALARY"
   ]
  },
  {
   "cell_type": "code",
   "execution_count": 3,
   "id": "daf491eb-77a6-468c-b102-86636f2bfe3a",
   "metadata": {},
   "outputs": [
    {
     "name": "stdout",
     "output_type": "stream",
     "text": [
      "<class 'pandas.core.frame.DataFrame'>\n",
      "RangeIndex: 30 entries, 0 to 29\n",
      "Data columns (total 2 columns):\n",
      " #   Column           Non-Null Count  Dtype  \n",
      "---  ------           --------------  -----  \n",
      " 0   YearsExperience  30 non-null     float64\n",
      " 1   Salary           30 non-null     float64\n",
      "dtypes: float64(2)\n",
      "memory usage: 608.0 bytes\n"
     ]
    }
   ],
   "source": [
    "data.info()"
   ]
  },
  {
   "cell_type": "code",
   "execution_count": 4,
   "id": "77f6a731-ba9d-4e80-acc8-3748afee0722",
   "metadata": {},
   "outputs": [
    {
     "data": {
      "text/html": [
       "<div>\n",
       "<style scoped>\n",
       "    .dataframe tbody tr th:only-of-type {\n",
       "        vertical-align: middle;\n",
       "    }\n",
       "\n",
       "    .dataframe tbody tr th {\n",
       "        vertical-align: top;\n",
       "    }\n",
       "\n",
       "    .dataframe thead th {\n",
       "        text-align: right;\n",
       "    }\n",
       "</style>\n",
       "<table border=\"1\" class=\"dataframe\">\n",
       "  <thead>\n",
       "    <tr style=\"text-align: right;\">\n",
       "      <th></th>\n",
       "      <th>YearsExperience</th>\n",
       "      <th>Salary</th>\n",
       "    </tr>\n",
       "  </thead>\n",
       "  <tbody>\n",
       "    <tr>\n",
       "      <th>count</th>\n",
       "      <td>30.000000</td>\n",
       "      <td>30.000000</td>\n",
       "    </tr>\n",
       "    <tr>\n",
       "      <th>mean</th>\n",
       "      <td>5.313333</td>\n",
       "      <td>76003.000000</td>\n",
       "    </tr>\n",
       "    <tr>\n",
       "      <th>std</th>\n",
       "      <td>2.837888</td>\n",
       "      <td>27414.429785</td>\n",
       "    </tr>\n",
       "    <tr>\n",
       "      <th>min</th>\n",
       "      <td>1.100000</td>\n",
       "      <td>37731.000000</td>\n",
       "    </tr>\n",
       "    <tr>\n",
       "      <th>25%</th>\n",
       "      <td>3.200000</td>\n",
       "      <td>56720.750000</td>\n",
       "    </tr>\n",
       "    <tr>\n",
       "      <th>50%</th>\n",
       "      <td>4.700000</td>\n",
       "      <td>65237.000000</td>\n",
       "    </tr>\n",
       "    <tr>\n",
       "      <th>75%</th>\n",
       "      <td>7.700000</td>\n",
       "      <td>100544.750000</td>\n",
       "    </tr>\n",
       "    <tr>\n",
       "      <th>max</th>\n",
       "      <td>10.500000</td>\n",
       "      <td>122391.000000</td>\n",
       "    </tr>\n",
       "  </tbody>\n",
       "</table>\n",
       "</div>"
      ],
      "text/plain": [
       "       YearsExperience         Salary\n",
       "count        30.000000      30.000000\n",
       "mean          5.313333   76003.000000\n",
       "std           2.837888   27414.429785\n",
       "min           1.100000   37731.000000\n",
       "25%           3.200000   56720.750000\n",
       "50%           4.700000   65237.000000\n",
       "75%           7.700000  100544.750000\n",
       "max          10.500000  122391.000000"
      ]
     },
     "execution_count": 4,
     "metadata": {},
     "output_type": "execute_result"
    }
   ],
   "source": [
    "data.describe()\n"
   ]
  },
  {
   "cell_type": "markdown",
   "id": "03c74c7d-cf88-4e0b-acad-1ff26001e4bd",
   "metadata": {},
   "source": [
    "## Dividing dependent and independent variabels "
   ]
  },
  {
   "cell_type": "code",
   "execution_count": 5,
   "id": "27046498-c0c5-486c-9705-f8a89582f81a",
   "metadata": {},
   "outputs": [
    {
     "data": {
      "text/html": [
       "<div>\n",
       "<style scoped>\n",
       "    .dataframe tbody tr th:only-of-type {\n",
       "        vertical-align: middle;\n",
       "    }\n",
       "\n",
       "    .dataframe tbody tr th {\n",
       "        vertical-align: top;\n",
       "    }\n",
       "\n",
       "    .dataframe thead th {\n",
       "        text-align: right;\n",
       "    }\n",
       "</style>\n",
       "<table border=\"1\" class=\"dataframe\">\n",
       "  <thead>\n",
       "    <tr style=\"text-align: right;\">\n",
       "      <th></th>\n",
       "      <th>YearsExperience</th>\n",
       "    </tr>\n",
       "  </thead>\n",
       "  <tbody>\n",
       "    <tr>\n",
       "      <th>0</th>\n",
       "      <td>1.1</td>\n",
       "    </tr>\n",
       "    <tr>\n",
       "      <th>1</th>\n",
       "      <td>1.3</td>\n",
       "    </tr>\n",
       "    <tr>\n",
       "      <th>2</th>\n",
       "      <td>1.5</td>\n",
       "    </tr>\n",
       "    <tr>\n",
       "      <th>3</th>\n",
       "      <td>2.0</td>\n",
       "    </tr>\n",
       "    <tr>\n",
       "      <th>4</th>\n",
       "      <td>2.2</td>\n",
       "    </tr>\n",
       "  </tbody>\n",
       "</table>\n",
       "</div>"
      ],
      "text/plain": [
       "   YearsExperience\n",
       "0              1.1\n",
       "1              1.3\n",
       "2              1.5\n",
       "3              2.0\n",
       "4              2.2"
      ]
     },
     "execution_count": 5,
     "metadata": {},
     "output_type": "execute_result"
    }
   ],
   "source": [
    "x=data[['YearsExperience']]\n",
    "y=data[['Salary']]\n",
    "x.head()"
   ]
  },
  {
   "cell_type": "code",
   "execution_count": 6,
   "id": "66bf2deb-7fd8-4d32-ac73-ea79b7eeb94e",
   "metadata": {},
   "outputs": [
    {
     "data": {
      "text/html": [
       "<div>\n",
       "<style scoped>\n",
       "    .dataframe tbody tr th:only-of-type {\n",
       "        vertical-align: middle;\n",
       "    }\n",
       "\n",
       "    .dataframe tbody tr th {\n",
       "        vertical-align: top;\n",
       "    }\n",
       "\n",
       "    .dataframe thead th {\n",
       "        text-align: right;\n",
       "    }\n",
       "</style>\n",
       "<table border=\"1\" class=\"dataframe\">\n",
       "  <thead>\n",
       "    <tr style=\"text-align: right;\">\n",
       "      <th></th>\n",
       "      <th>Salary</th>\n",
       "    </tr>\n",
       "  </thead>\n",
       "  <tbody>\n",
       "    <tr>\n",
       "      <th>0</th>\n",
       "      <td>39343.0</td>\n",
       "    </tr>\n",
       "    <tr>\n",
       "      <th>1</th>\n",
       "      <td>46205.0</td>\n",
       "    </tr>\n",
       "    <tr>\n",
       "      <th>2</th>\n",
       "      <td>37731.0</td>\n",
       "    </tr>\n",
       "    <tr>\n",
       "      <th>3</th>\n",
       "      <td>43525.0</td>\n",
       "    </tr>\n",
       "    <tr>\n",
       "      <th>4</th>\n",
       "      <td>39891.0</td>\n",
       "    </tr>\n",
       "  </tbody>\n",
       "</table>\n",
       "</div>"
      ],
      "text/plain": [
       "    Salary\n",
       "0  39343.0\n",
       "1  46205.0\n",
       "2  37731.0\n",
       "3  43525.0\n",
       "4  39891.0"
      ]
     },
     "execution_count": 6,
     "metadata": {},
     "output_type": "execute_result"
    }
   ],
   "source": [
    "y.head()"
   ]
  },
  {
   "cell_type": "markdown",
   "id": "c7eef618-2605-4b2b-8d31-fb9a26ffabd3",
   "metadata": {},
   "source": [
    "## convert X and y to array"
   ]
  },
  {
   "cell_type": "code",
   "execution_count": 7,
   "id": "e76c6910-8921-46a4-bb03-b693970c7f6c",
   "metadata": {},
   "outputs": [
    {
     "data": {
      "text/plain": [
       "numpy.ndarray"
      ]
     },
     "execution_count": 7,
     "metadata": {},
     "output_type": "execute_result"
    }
   ],
   "source": [
    "x=np.array(x)\n",
    "type(x)"
   ]
  },
  {
   "cell_type": "code",
   "execution_count": 8,
   "id": "34e27849-88a7-4d3d-a58f-b5bf9de7a45b",
   "metadata": {},
   "outputs": [
    {
     "data": {
      "text/plain": [
       "(30, 1)"
      ]
     },
     "execution_count": 8,
     "metadata": {},
     "output_type": "execute_result"
    }
   ],
   "source": [
    "x.shape"
   ]
  },
  {
   "cell_type": "code",
   "execution_count": 9,
   "id": "a213ed81-79d7-4105-b2d3-a193622c825e",
   "metadata": {},
   "outputs": [
    {
     "data": {
      "text/plain": [
       "numpy.ndarray"
      ]
     },
     "execution_count": 9,
     "metadata": {},
     "output_type": "execute_result"
    }
   ],
   "source": [
    "y=np.array(y)\n",
    "type(y)"
   ]
  },
  {
   "cell_type": "code",
   "execution_count": 10,
   "id": "da88c0cf-3e46-467e-870b-b1953979acb3",
   "metadata": {},
   "outputs": [
    {
     "data": {
      "text/plain": [
       "(30, 1)"
      ]
     },
     "execution_count": 10,
     "metadata": {},
     "output_type": "execute_result"
    }
   ],
   "source": [
    "y.shape"
   ]
  },
  {
   "cell_type": "markdown",
   "id": "bf9c580f-14be-4c59-b6ff-bc6053b8068f",
   "metadata": {},
   "source": [
    "## splitting  the data train and test set"
   ]
  },
  {
   "cell_type": "code",
   "execution_count": 11,
   "id": "d41ab5bb-450e-43a3-abea-14bb99d56cac",
   "metadata": {},
   "outputs": [],
   "source": [
    "from sklearn.model_selection import train_test_split\n",
    "x_train,x_test,y_train,y_test=train_test_split (x,y,train_size=0.33,random_state=10)"
   ]
  },
  {
   "cell_type": "code",
   "execution_count": 12,
   "id": "bb1317c0-cc72-4730-9a9a-3d9a18b0fa7f",
   "metadata": {},
   "outputs": [
    {
     "data": {
      "text/plain": [
       "((9, 1), (21, 1), (9, 1), (21, 1))"
      ]
     },
     "execution_count": 12,
     "metadata": {},
     "output_type": "execute_result"
    }
   ],
   "source": [
    "x_train.shape,x_test.shape,y_train.shape,y_test.shape"
   ]
  },
  {
   "cell_type": "code",
   "execution_count": 13,
   "id": "e1316c79-ff8e-4fb7-8f03-94a2d561b324",
   "metadata": {},
   "outputs": [],
   "source": [
    "from sklearn.linear_model import LinearRegression\n",
    "model=LinearRegression()"
   ]
  },
  {
   "cell_type": "markdown",
   "id": "78ad7192-9266-4e4b-a9ec-5c892f0afed0",
   "metadata": {},
   "source": [
    "## train  your model"
   ]
  },
  {
   "cell_type": "code",
   "execution_count": 14,
   "id": "d53b9b52-62d9-48df-bbe3-bc67e3e27436",
   "metadata": {},
   "outputs": [
    {
     "data": {
      "text/plain": [
       "LinearRegression()"
      ]
     },
     "execution_count": 14,
     "metadata": {},
     "output_type": "execute_result"
    }
   ],
   "source": [
    "model.fit(x_train,y_train)"
   ]
  },
  {
   "cell_type": "code",
   "execution_count": 15,
   "id": "5a65b2a0-3691-43f0-9a33-8b18932a88e5",
   "metadata": {},
   "outputs": [],
   "source": [
    "y_pred=model.predict(x_test)"
   ]
  },
  {
   "cell_type": "code",
   "execution_count": 16,
   "id": "a9d0612a-dd05-491d-b465-4702e0ac8954",
   "metadata": {},
   "outputs": [
    {
     "data": {
      "text/plain": [
       "array([[ 87734.71294054],\n",
       "       [ 55682.39817057],\n",
       "       [ 53011.37193974],\n",
       "       [ 40546.58286252],\n",
       "       [ 44998.29324724],\n",
       "       [ 90405.73917137],\n",
       "       [ 63695.47686306],\n",
       "       [112664.29109497],\n",
       "       [ 62805.13478612],\n",
       "       [ 38765.89870864],\n",
       "       [ 80611.97632499],\n",
       "       [ 67256.84517084],\n",
       "       [ 79721.63424805],\n",
       "       [ 53901.71401668],\n",
       "       [ 62805.13478612],\n",
       "       [100199.50201776],\n",
       "       [104651.21240248],\n",
       "       [118896.68563358],\n",
       "       [ 97528.47578692],\n",
       "       [ 61914.79270917],\n",
       "       [111773.94901803]])"
      ]
     },
     "execution_count": 16,
     "metadata": {},
     "output_type": "execute_result"
    }
   ],
   "source": [
    "y_pred"
   ]
  },
  {
   "cell_type": "code",
   "execution_count": 17,
   "id": "b604d1cc-2761-4e74-b079-a92b74d5f848",
   "metadata": {},
   "outputs": [],
   "source": [
    "y_pred=np.round(y_pred,2)"
   ]
  },
  {
   "cell_type": "code",
   "execution_count": 18,
   "id": "e2d11a2d-1c3c-4213-9f75-3f38881aeb11",
   "metadata": {},
   "outputs": [
    {
     "data": {
      "text/plain": [
       "array([[ 91738.],\n",
       "       [ 54445.],\n",
       "       [ 56642.],\n",
       "       [ 37731.],\n",
       "       [ 43525.],\n",
       "       [ 98273.],\n",
       "       [ 57081.],\n",
       "       [112635.],\n",
       "       [ 56957.],\n",
       "       [ 46205.],\n",
       "       [ 93940.],\n",
       "       [ 61111.],\n",
       "       [ 81363.],\n",
       "       [ 60150.],\n",
       "       [ 55794.],\n",
       "       [113812.],\n",
       "       [109431.],\n",
       "       [122391.],\n",
       "       [101302.],\n",
       "       [ 63218.],\n",
       "       [116969.]])"
      ]
     },
     "execution_count": 18,
     "metadata": {},
     "output_type": "execute_result"
    }
   ],
   "source": [
    "y_test"
   ]
  },
  {
   "cell_type": "markdown",
   "id": "3a499b90-5d82-42a4-b274-dae621807100",
   "metadata": {},
   "source": [
    "## Checking model accurecy"
   ]
  },
  {
   "cell_type": "code",
   "execution_count": 19,
   "id": "ecb10d68-06d2-43eb-8489-c61be8f8752a",
   "metadata": {},
   "outputs": [
    {
     "data": {
      "text/plain": [
       "38362176.97230952"
      ]
     },
     "execution_count": 19,
     "metadata": {},
     "output_type": "execute_result"
    }
   ],
   "source": [
    "from sklearn.metrics import mean_squared_error\n",
    "errors= mean_squared_error(y_pred,y_test)\n",
    "errors"
   ]
  },
  {
   "cell_type": "code",
   "execution_count": 20,
   "id": "d2643b82-a018-45e6-ab55-72c71951401b",
   "metadata": {},
   "outputs": [
    {
     "data": {
      "text/plain": [
       "94.76697704009871"
      ]
     },
     "execution_count": 20,
     "metadata": {},
     "output_type": "execute_result"
    }
   ],
   "source": [
    "from sklearn.metrics import r2_score\n",
    "score=r2_score(y_test, y_pred)\n",
    "score*100"
   ]
  },
  {
   "cell_type": "markdown",
   "id": "28645d25-3e15-4ff5-bdc0-79c66af5f229",
   "metadata": {},
   "source": [
    "## draw the line of regressions( training set)"
   ]
  },
  {
   "cell_type": "code",
   "execution_count": 21,
   "id": "c11e0af2-2c43-47f6-8172-b5117110ca7d",
   "metadata": {},
   "outputs": [
    {
     "data": {
      "image/png": "[encoded data removed]",
      "text/plain": [
       "<Figure size 432x288 with 1 Axes>"
      ]
     },
     "metadata": {
      "needs_background": "light"
     },
     "output_type": "display_data"
    }
   ],
   "source": [
    "plt.scatter(x_train,y_train,color=\"blue\",label=\"actul data\",s=100)\n",
    "plt.scatter(x_train,model.predict(x_train),color=\"red\", label='predicted data',s=120)\n",
    "plt.plot(x_train,model.predict(x_train),color=\"yellow\", label='line of regression',linestyle='dotted')\n",
    "plt.legend()\n",
    "plt.show()"
   ]
  },
  {
   "cell_type": "markdown",
   "id": "1d1a9623-8b68-488f-939d-c15ed4652a71",
   "metadata": {},
   "source": [
    "## draw the line of test data set"
   ]
  },
  {
   "cell_type": "code",
   "execution_count": 22,
   "id": "61202b89-600c-449e-b449-84b1bdd1bcf0",
   "metadata": {},
   "outputs": [
    {
     "data": {
      "image/png": "[encoded data removed]",
      "text/plain": [
       "<Figure size 432x288 with 1 Axes>"
      ]
     },
     "metadata": {
      "needs_background": "light"
     },
     "output_type": "display_data"
    }
   ],
   "source": [
    "plt.scatter(x_test,y_test,color=\"blue\",label=\"actul data\",s=50)\n",
    "plt.scatter(x_test,y_pred,color=\"red\", label='predicted data',s=80)\n",
    "plt.plot(x_test,y_pred,color=\"yellow\", label='line of regression',linestyle='dotted')\n",
    "plt.legend()\n",
    "plt.show()"
   ]
  },
  {
   "cell_type": "code",
   "execution_count": 23,
   "id": "0ca0b620-82c5-4b43-b8ac-3b136c5076c8",
   "metadata": {},
   "outputs": [
    {
     "name": "stdout",
     "output_type": "stream",
     "text": [
      "Mean squared error = 38362176.97\n",
      "Explain variance score = 0.95\n",
      "R2 score = 0.95\n"
     ]
    }
   ],
   "source": [
    "print(\"Mean squared error =\", round(sm.mean_squared_error(y_test, y_pred), 2))\n",
    "print(\"Explain variance score =\", round(sm.explained_variance_score(y_test, y_pred), 2))\n",
    "print(\"R2 score =\", round(sm.r2_score(y_test, y_pred), 2))"
   ]
  },
  {
   "cell_type": "code",
   "execution_count": 26,
   "id": "6b5a2a56-63d2-404f-8753-bdbbe119ba0f",
   "metadata": {},
   "outputs": [
    {
     "name": "stdout",
     "output_type": "stream",
     "text": [
      "0.988169515729126\n",
      "0\n"
     ]
    }
   ],
   "source": [
    "accuracy=[]\n",
    "for i in range(1):\n",
    "    x_train1,x_test1,y_train1,y_test1=train_test_split(x,y,train_size=0.8,random_state=i)\n",
    "    model1=LinearRegression()\n",
    "    model1.fit(x_train1,y_train1)\n",
    "    y_pred1=model1.predict(x_test1)\n",
    "    score1=r2_score(y_test1,y_pred1)\n",
    "    accuracy.append(score1)\n",
    "    print(np.max(accuracy))\n",
    "    print(np.argmax(accuracy))"
   ]
  },
  {
   "cell_type": "code",
   "execution_count": null,
   "id": "118139d3-9f3e-4cf4-a205-05a34084e55a",
   "metadata": {},
   "outputs": [],
   "source": []
  }
 ],
 "metadata": {
  "kernelspec": {
   "display_name": "Python 3",
   "language": "python",
   "name": "python3"
  },
  "language_info": {
   "codemirror_mode": {
    "name": "ipython",
    "version": 3
   },
   "file_extension": ".py",
   "mimetype": "text/x-python",
   "name": "python",
   "nbconvert_exporter": "python",
   "pygments_lexer": "ipython3",
   "version": "3.8.8"
  }
 },
 "nbformat": 4,
 "nbformat_minor": 5
}
